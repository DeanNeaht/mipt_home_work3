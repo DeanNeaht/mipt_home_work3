{
 "cells": [
  {
   "cell_type": "code",
   "execution_count": 2,
   "id": "initial_id",
   "metadata": {
    "collapsed": true,
    "ExecuteTime": {
     "end_time": "2024-11-15T18:56:57.072002Z",
     "start_time": "2024-11-15T18:56:55.081558Z"
    }
   },
   "outputs": [
    {
     "name": "stdout",
     "output_type": "stream",
     "text": [
      "Loading environment lux_ai_s3 failed: No module named 'gymnax'\n"
     ]
    }
   ],
   "source": [
    "# Подключаем нужные библиотеки\n",
    "from kaggle_environments import make, evaluate\n",
    "import numpy as np\n",
    "import random\n",
    "import collections\n",
    "import pandas as pd\n",
    "import matplotlib.pyplot as plt\n",
    "import seaborn as sns\n",
    "import warnings\n",
    "import math\n",
    "from sklearn.tree import DecisionTreeClassifier\n",
    "import pydash\n",
    "from collections import Counter\n",
    "\n",
    "warnings.filterwarnings('ignore')\n",
    "\n",
    "# Создаем окружение для игры с заданным количеством шагов (ходов)\n",
    "env = make(\"rps\", configuration={\"episodeSteps\": 100})"
   ]
  },
  {
   "cell_type": "code",
   "execution_count": 3,
   "outputs": [
    {
     "name": "stdout",
     "output_type": "stream",
     "text": [
      "Overwriting rock_agent.py\n"
     ]
    }
   ],
   "source": [
    "%%writefile rock_agent.py\n",
    "\n",
    "# 1. Агент, который всегда выбирает \"камень\"\n",
    "def rock_agent(observation, configuration):\n",
    "    \"\"\"\n",
    "    Агент, который всегда выбирает 'камень' (0).\n",
    "    \"\"\"\n",
    "    return 0"
   ],
   "metadata": {
    "collapsed": false,
    "ExecuteTime": {
     "end_time": "2024-11-15T18:56:57.075894Z",
     "start_time": "2024-11-15T18:56:57.072978Z"
    }
   },
   "id": "e813df5118651941"
  },
  {
   "cell_type": "code",
   "execution_count": 4,
   "outputs": [
    {
     "name": "stdout",
     "output_type": "stream",
     "text": [
      "Overwriting paper_agent.py\n"
     ]
    }
   ],
   "source": [
    "%%writefile paper_agent.py\n",
    "\n",
    "# 2. Агент, который всегда выбирает \"бумагу\"\n",
    "def paper_agent(observation, configuration):\n",
    "    \"\"\"\n",
    "    Агент, который всегда выбирает 'бумагу' (1).\n",
    "    \"\"\"\n",
    "    return 1"
   ],
   "metadata": {
    "collapsed": false,
    "ExecuteTime": {
     "end_time": "2024-11-15T18:56:57.078299Z",
     "start_time": "2024-11-15T18:56:57.076134Z"
    }
   },
   "id": "ce2b4ecc317e687f"
  },
  {
   "cell_type": "code",
   "execution_count": 5,
   "outputs": [
    {
     "name": "stdout",
     "output_type": "stream",
     "text": [
      "Overwriting scissors_agent.py\n"
     ]
    }
   ],
   "source": [
    "%%writefile scissors_agent.py\n",
    "\n",
    "# 3. Агент, который всегда выбирает \"ножницы\"\n",
    "def scissors_agent(observation, configuration):\n",
    "    \"\"\"\n",
    "    Агент, который всегда выбирает 'ножницы' (2).\n",
    "    \"\"\"\n",
    "    return 2"
   ],
   "metadata": {
    "collapsed": false,
    "ExecuteTime": {
     "end_time": "2024-11-15T18:56:57.082189Z",
     "start_time": "2024-11-15T18:56:57.079014Z"
    }
   },
   "id": "bef61206fc875909"
  },
  {
   "cell_type": "code",
   "execution_count": 6,
   "outputs": [
    {
     "name": "stdout",
     "output_type": "stream",
     "text": [
      "Overwriting copy_opponent_agent.py\n"
     ]
    }
   ],
   "source": [
    "%%writefile copy_opponent_agent.py\n",
    "\n",
    "# 4. Агент, который копирует последний ход оппонента\n",
    "import random\n",
    "def copy_opponent_agent(observation, configuration):\n",
    "    \"\"\"\n",
    "    Копирует последний ход противника. Если ход первый, выбирает случайно.\n",
    "    \"\"\"\n",
    "    if observation.step > 0:\n",
    "        return observation.lastOpponentAction  # копирует предыдущий ход противника\n",
    "    else:\n",
    "        return random.randrange(0, configuration.signs)  # случайный ход на первом шаге"
   ],
   "metadata": {
    "collapsed": false,
    "ExecuteTime": {
     "end_time": "2024-11-15T18:56:57.086168Z",
     "start_time": "2024-11-15T18:56:57.083494Z"
    }
   },
   "id": "57b936d8e4d46fdc"
  },
  {
   "cell_type": "code",
   "execution_count": 7,
   "outputs": [
    {
     "name": "stdout",
     "output_type": "stream",
     "text": [
      "Overwriting reactionary_agent.py\n"
     ]
    }
   ],
   "source": [
    "%%writefile reactionary_agent.py\n",
    "# 5. Агент, который реагирует на последние действия противника\n",
    "\n",
    "def get_score(left_move, right_move):\n",
    "    \"\"\"\n",
    "    Вычисляет результат последнего действия. \n",
    "    Возвращает 0 при ничьей, 1 при выигрыше и -1 при проигрыше.\n",
    "    \"\"\"\n",
    "    delta = (\n",
    "        right_move - left_move\n",
    "        if (left_move + right_move) % 2 == 0\n",
    "        else left_move - right_move\n",
    "    )\n",
    "    return 0 if delta == 0 else math.copysign(1, delta)\n",
    "\n",
    "last_react_action = None\n",
    "def reactionary_agent(observation, configuration):\n",
    "    \"\"\"\n",
    "    Агент реагирует на последние действия противника.\n",
    "    Если предыдущий ход был проигран, выбирает новый ход.\n",
    "    \"\"\"\n",
    "    global last_react_action\n",
    "    if observation.step == 0:\n",
    "        last_react_action = random.randrange(0, configuration.signs)  # случайный первый ход\n",
    "    elif get_score(last_react_action, observation.lastOpponentAction) <= 1:\n",
    "        last_react_action = (observation.lastOpponentAction + 1) % configuration.signs  # выбирает следующий ход\n",
    "\n",
    "    return last_react_action"
   ],
   "metadata": {
    "collapsed": false,
    "ExecuteTime": {
     "end_time": "2024-11-15T18:56:57.088550Z",
     "start_time": "2024-11-15T18:56:57.086450Z"
    }
   },
   "id": "5540dbebddce33f4"
  },
  {
   "cell_type": "code",
   "execution_count": 8,
   "outputs": [
    {
     "name": "stdout",
     "output_type": "stream",
     "text": [
      "Overwriting counter_reactionary_agent.py\n"
     ]
    }
   ],
   "source": [
    "%%writefile counter_reactionary_agent.py\n",
    "# 6. Агент, который выбирает действие в зависимости от результатов последних ходов\n",
    "\n",
    "last_counter_action = None\n",
    "def get_score(left_move, right_move):\n",
    "    \"\"\"\n",
    "    Возвращает счет на основе разницы между ходами.\n",
    "    \"\"\"\n",
    "    delta = (\n",
    "        right_move - left_move\n",
    "        if (left_move + right_move) % 2 == 0\n",
    "        else left_move - right_move\n",
    "    )\n",
    "    return 0 if delta == 0 else math.copysign(1, delta)\n",
    "\n",
    "def counter_reactionary_agent(observation, configuration):\n",
    "    \"\"\"\n",
    "    Если агент выиграл, выбирает действие, чтобы противодействовать.\n",
    "    Иначе адаптируется к ходу противника.\n",
    "    \"\"\"\n",
    "    global last_counter_action\n",
    "    if observation.step == 0:\n",
    "        last_counter_action = random.randrange(0, configuration.signs)  # случайный первый ход\n",
    "    elif get_score(last_counter_action, observation.lastOpponentAction) == 1:\n",
    "        last_counter_action = (last_counter_action + 2) % configuration.signs  # если выиграл, выбирает контр-ход\n",
    "    else:\n",
    "        last_counter_action = (observation.lastOpponentAction + 1) % configuration.signs  # выбирает ход противника + 1\n",
    "\n",
    "    return last_counter_action"
   ],
   "metadata": {
    "collapsed": false,
    "ExecuteTime": {
     "end_time": "2024-11-15T18:56:57.092031Z",
     "start_time": "2024-11-15T18:56:57.089258Z"
    }
   },
   "id": "9cbe0367ef71bb6a"
  },
  {
   "cell_type": "code",
   "execution_count": 9,
   "outputs": [
    {
     "name": "stdout",
     "output_type": "stream",
     "text": [
      "Overwriting statistical_agent.py\n"
     ]
    }
   ],
   "source": [
    "%%writefile statistical_agent.py\n",
    "# 7. Агент, который анализирует статистику ходов противника\n",
    "\n",
    "action_histogram = {}\n",
    "def statistical_agent(observation, configuration):\n",
    "    \"\"\"\n",
    "    Запоминает ходы противника и выбирает действие, чтобы противодействовать\n",
    "    наиболее частому ходу противника.\n",
    "    \"\"\"\n",
    "    global action_histogram\n",
    "    if observation.step == 0:\n",
    "        action_histogram = {}  # очищает историю в начале\n",
    "        return random.randint(0, 2)  # случайный ход в начале\n",
    "    \n",
    "    action = observation.lastOpponentAction\n",
    "    action_histogram[action] = action_histogram.get(action, 0) + 1  # считает ходы противника\n",
    "\n",
    "    mode_action = max(action_histogram, key=action_histogram.get)  # находит наиболее частый ход\n",
    "    return (mode_action + 1) % configuration.signs  # возвращает контр-ход"
   ],
   "metadata": {
    "collapsed": false,
    "ExecuteTime": {
     "end_time": "2024-11-15T18:56:57.096566Z",
     "start_time": "2024-11-15T18:56:57.092283Z"
    }
   },
   "id": "a306e5b4aaa1e161"
  },
  {
   "cell_type": "code",
   "execution_count": 10,
   "outputs": [
    {
     "name": "stdout",
     "output_type": "stream",
     "text": [
      "Overwriting Jonson_agent.py\n"
     ]
    }
   ],
   "source": [
    "%%writefile Jonson_agent.py\n",
    "# 8. Агент Джонсона с анализом паттернов противника\n",
    "\n",
    "def Jonson_agent(observation, configuration):\n",
    "    \"\"\"\n",
    "    Агент с анализом паттернов противника. Использует таблицу частот для предсказания.\n",
    "    \"\"\"\n",
    "    k = 2\n",
    "    global table, action_seq\n",
    "    if observation.step % 25 == 0:\n",
    "        action_seq, table = [], collections.defaultdict(lambda: [1, 1, 1])  # обновляет таблицу каждые 25 шагов\n",
    "    if len(action_seq) <= 2 * k + 1:\n",
    "        action = int(np.random.randint(3))\n",
    "        if observation.step > 0:\n",
    "            action_seq.extend([observation.lastOpponentAction, action])  # добавляет последний ход противника\n",
    "        else:\n",
    "            action_seq.append(action)\n",
    "        return action\n",
    "\n",
    "    key = ''.join([str(a) for a in action_seq[:-1]])  # ключ на основе последовательности ходов\n",
    "    table[key][observation.lastOpponentAction] += 1  # обновляет таблицу по ключу\n",
    "\n",
    "    action_seq[:-2] = action_seq[2:]\n",
    "    action_seq[-2] = observation.lastOpponentAction\n",
    "    key = ''.join([str(a) for a in action_seq[:-1]])\n",
    "    \n",
    "    if observation.step < 50:\n",
    "        next_opponent_action_pred = np.argmax(table[key])  # предсказание по таблице\n",
    "    else:\n",
    "        scores = np.array(table[key])\n",
    "        next_opponent_action_pred = np.random.choice(3, p=scores/scores.sum())\n",
    "        \n",
    "    action = (next_opponent_action_pred + 1) % 3\n",
    "    if observation.step > 90:\n",
    "        action = next_opponent_action_pred\n",
    "    action_seq[-1] = action\n",
    "    return int(action)"
   ],
   "metadata": {
    "collapsed": false,
    "ExecuteTime": {
     "end_time": "2024-11-15T18:56:57.122827Z",
     "start_time": "2024-11-15T18:56:57.095781Z"
    }
   },
   "id": "1222788627b8e02e"
  },
  {
   "cell_type": "code",
   "execution_count": 11,
   "outputs": [
    {
     "name": "stdout",
     "output_type": "stream",
     "text": [
      "Overwriting nash_equilibrium_agent.py\n"
     ]
    }
   ],
   "source": [
    "%%writefile nash_equilibrium_agent.py\n",
    "# 9. Агент по принципу равновесия Нэша (случайный выбор)\n",
    "\n",
    "def nash_equilibrium_agent(observation, configuration):\n",
    "    \"\"\"\n",
    "    Случайный выбор действия для достижения равновесия Нэша.\n",
    "    \"\"\"\n",
    "    return random.randint(0, 2)"
   ],
   "metadata": {
    "collapsed": false,
    "ExecuteTime": {
     "end_time": "2024-11-15T18:56:57.123168Z",
     "start_time": "2024-11-15T18:56:57.098347Z"
    }
   },
   "id": "fe507a03536673d6"
  },
  {
   "cell_type": "code",
   "execution_count": 12,
   "outputs": [
    {
     "name": "stdout",
     "output_type": "stream",
     "text": [
      "Overwriting rock_paper_agent.py\n"
     ]
    }
   ],
   "source": [
    "%%writefile rock_paper_agent.py\n",
    "# 10. Агент, который случайно выбирает между \"камнем\" и \"бумагой\"\n",
    "\n",
    "def rock_paper_agent(observation, configuration):\n",
    "    \"\"\"\n",
    "    Случайно выбирает между 'камнем' (0) и 'бумагой' (1).\n",
    "    \"\"\"\n",
    "    return random.randint(0, 1)"
   ],
   "metadata": {
    "collapsed": false,
    "ExecuteTime": {
     "end_time": "2024-11-15T18:56:57.123344Z",
     "start_time": "2024-11-15T18:56:57.100901Z"
    }
   },
   "id": "8f6367b3a5aef56"
  },
  {
   "cell_type": "code",
   "execution_count": 13,
   "outputs": [
    {
     "name": "stdout",
     "output_type": "stream",
     "text": [
      "Overwriting paper_scissors_agent.py\n"
     ]
    }
   ],
   "source": [
    "%%writefile paper_scissors_agent.py\n",
    "# 11. Агент, который случайно выбирает между \"бумагой\" и \"ножницами\"\n",
    "\n",
    "def paper_scissors_agent(observation, configuration):\n",
    "    \"\"\"\n",
    "    Случайно выбирает между 'бумагой' (1) и 'ножницами' (2).\n",
    "    \"\"\"\n",
    "    return random.randint(1, 2)"
   ],
   "metadata": {
    "collapsed": false,
    "ExecuteTime": {
     "end_time": "2024-11-15T18:56:57.123514Z",
     "start_time": "2024-11-15T18:56:57.103995Z"
    }
   },
   "id": "93b9242756904d8c"
  },
  {
   "cell_type": "code",
   "execution_count": 14,
   "outputs": [
    {
     "name": "stdout",
     "output_type": "stream",
     "text": [
      "Overwriting rock_scissors_agent.py\n"
     ]
    }
   ],
   "source": [
    "%%writefile rock_scissors_agent.py\n",
    "# 12. Агент, который случайно выбирает между \"камнем\", \"ножницами\" и \"бумагой\"\n",
    "import random\n",
    "\n",
    "def rock_scissors_agent(observation, configuration):\n",
    "    \"\"\"\n",
    "    Случайно выбирает 'камень' (0), 'ножницы' (2) или 'бумагу' (1).\n",
    "    \"\"\"\n",
    "    return random.randint(0, 2)"
   ],
   "metadata": {
    "collapsed": false,
    "ExecuteTime": {
     "end_time": "2024-11-15T18:56:57.123804Z",
     "start_time": "2024-11-15T18:56:57.107102Z"
    }
   },
   "id": "d518e5955e0df4e6"
  },
  {
   "cell_type": "code",
   "execution_count": 15,
   "outputs": [
    {
     "name": "stdout",
     "output_type": "stream",
     "text": [
      "Overwriting transition_agent.py\n"
     ]
    }
   ],
   "source": [
    "%%writefile transition_agent.py\n",
    "# 13. Агент с матрицей переходов для предсказания действий противника\n",
    "\n",
    "T = np.zeros((3, 3))\n",
    "P = np.zeros((3, 3))\n",
    "\n",
    "a1, a2 = None, None\n",
    "\n",
    "def transition_agent(observation, configuration):\n",
    "    \"\"\"\n",
    "    Агент анализирует переходы между действиями противника и предсказывает следующее.\n",
    "    \"\"\"\n",
    "    global T, P, a1, a2\n",
    "    if observation.step > 1:\n",
    "        a1 = observation.lastOpponentAction\n",
    "        T[a2, a1] += 1  # обновляет матрицу переходов\n",
    "        P = np.divide(T, np.maximum(1, T.sum(axis=1)).reshape(-1, 1))\n",
    "        a2 = a1\n",
    "        if np.sum(P[a1, :]) == 1:\n",
    "            return int((np.random.choice([0, 1, 2], p=P[a1, :]) + 1) % 3)  # предсказание на основе вероятностей\n",
    "        else:\n",
    "            return int(np.random.randint(3))  # случайный ход\n",
    "    else:\n",
    "        if observation.step == 1:\n",
    "            a2 = observation.lastOpponentAction\n",
    "        return int(np.random.randint(3))"
   ],
   "metadata": {
    "collapsed": false,
    "ExecuteTime": {
     "end_time": "2024-11-15T18:56:57.131184Z",
     "start_time": "2024-11-15T18:56:57.111492Z"
    }
   },
   "id": "d1672126e8e007e1"
  },
  {
   "cell_type": "code",
   "execution_count": 16,
   "outputs": [
    {
     "name": "stdout",
     "output_type": "stream",
     "text": [
      "Writing decision_tree.py\n"
     ]
    }
   ],
   "source": [
    "%%writefile decision_tree.py\n",
    "\n",
    "\n",
    "def construct_local_features(rollouts):\n",
    "    step_mode_features = np.array([[step % k for step in rollouts['steps']] for k in (2, 3, 5)])\n",
    "    step_div_features = np.array([[step // k for step in rollouts['steps']] for k in (100, 150, 250)])\n",
    "    features = np.concatenate([step_mode_features, step_div_features])\n",
    "    features = np.append(features, rollouts['actions'])\n",
    "    features = np.append(features, rollouts['opp-actions'])\n",
    "    return features\n",
    "\n",
    "def construct_global_features(rollouts):\n",
    "    features = []\n",
    "    for key in ['actions', 'opp-actions']:\n",
    "        for i in range(3):\n",
    "            actions_count = np.mean([r == i for r in rollouts[key]])\n",
    "            features.append(actions_count)\n",
    "    return np.array(features)\n",
    "\n",
    "def construct_features(short_stat_rollouts, long_stat_rollouts):\n",
    "    lf = construct_local_features(short_stat_rollouts)\n",
    "    gf = construct_global_features(long_stat_rollouts)\n",
    "    features = np.concatenate([lf, gf])\n",
    "    return features\n",
    "\n",
    "def predict_opponent_move(train_data, test_sample):\n",
    "    classifier = DecisionTreeClassifier(random_state=42)\n",
    "    classifier.fit(train_data['x'], train_data['y'])\n",
    "    return classifier.predict(test_sample)\n",
    "\n",
    "def update_rollouts_hist(rollouts_hist, last_move, opp_last_action):\n",
    "    rollouts_hist['steps'].append(last_move['step'])\n",
    "    rollouts_hist['actions'].append(last_move['action'])\n",
    "    rollouts_hist['opp-actions'].append(opp_last_action)\n",
    "    return rollouts_hist\n",
    "\n",
    "def warmup_strategy(observation, configuration):\n",
    "    global rollouts_hist, last_move\n",
    "    action = int(np.random.randint(3))\n",
    "    if observation.step == 0:\n",
    "        last_move = {'step': 0, 'action': action}\n",
    "        rollouts_hist = {'steps': [], 'actions': [], 'opp-actions': []}\n",
    "    else:\n",
    "        rollouts_hist = update_rollouts_hist(rollouts_hist, last_move, observation.lastOpponentAction)\n",
    "        last_move = {'step': observation.step, 'action': action}\n",
    "    return int(action)\n",
    "\n",
    "def init_training_data(rollouts_hist, k):\n",
    "    for i in range(len(rollouts_hist['steps']) - k + 1):\n",
    "        short_stat_rollouts = {key: rollouts_hist[key][i:i+k] for key in rollouts_hist}\n",
    "        long_stat_rollouts = {key: rollouts_hist[key][:i+k] for key in rollouts_hist}\n",
    "        features = construct_features(short_stat_rollouts, long_stat_rollouts)        \n",
    "        data['x'].append(features)\n",
    "    test_sample = data['x'][-1].reshape(1, -1)\n",
    "    data['x'] = data['x'][:-1]\n",
    "    data['y'] = rollouts_hist['opp-actions'][k:]\n",
    "    return data, test_sample\n",
    "\n",
    "def agent(observation, configuration):\n",
    "    # hyperparameters\n",
    "    k = 5\n",
    "    min_samples = 25\n",
    "    global rollouts_hist, last_move, data, test_sample\n",
    "    if observation.step == 0:\n",
    "        data = {'x': [], 'y': []}\n",
    "    # if not enough data -> randomize\n",
    "    if observation.step <= min_samples + k:\n",
    "        return warmup_strategy(observation, configuration)\n",
    "    # update statistics\n",
    "    rollouts_hist = update_rollouts_hist(rollouts_hist, last_move, observation.lastOpponentAction)\n",
    "    # update training data\n",
    "    if len(data['x']) == 0:\n",
    "        data, test_sample = init_training_data(rollouts_hist, k)\n",
    "    else:        \n",
    "        short_stat_rollouts = {key: rollouts_hist[key][-k:] for key in rollouts_hist}\n",
    "        features = construct_features(short_stat_rollouts, rollouts_hist)\n",
    "        data['x'].append(test_sample[0])\n",
    "        data['y'] = rollouts_hist['opp-actions'][k:]\n",
    "        test_sample = features.reshape(1, -1)\n",
    "        \n",
    "    # predict opponents move and choose an action\n",
    "    next_opp_action_pred = predict_opponent_move(data, test_sample)\n",
    "    action = int((next_opp_action_pred + 1) % 3)\n",
    "    last_move = {'step': observation.step, 'action': action}\n",
    "    return action"
   ],
   "metadata": {
    "collapsed": false,
    "ExecuteTime": {
     "end_time": "2024-11-15T18:56:57.131490Z",
     "start_time": "2024-11-15T18:56:57.114794Z"
    }
   },
   "id": "6b4410ad0e362bec"
  },
  {
   "cell_type": "code",
   "execution_count": 17,
   "outputs": [
    {
     "name": "stdout",
     "output_type": "stream",
     "text": [
      "Writing submission.py\n"
     ]
    }
   ],
   "source": [
    "%%writefile submission.py\n",
    "\n",
    "\n",
    "# Create a small amount of starting history\n",
    "history = {\n",
    "    \"guess\":      [0,1,2],\n",
    "    \"prediction\": [0,1,2],\n",
    "    \"expected\":   [0,1,2],\n",
    "    \"action\":     [1,2,0],\n",
    "    \"opponent\":   [0,1],\n",
    "    \"rotn\":       [0,1],\n",
    "}\n",
    "# observation   =  {'step': 1, 'lastOpponentAction': 1}\n",
    "# configuration =  {'episodeSteps': 1000, 'agentTimeout': 60, 'actTimeout': 1, 'runTimeout': 1200, 'isProduction': False, 'signs': 3}\n",
    "def statistical_prediction_agent(observation, configuration):    \n",
    "    global history\n",
    "    actions          = list(range(configuration.signs))  # [0,1,2]\n",
    "    last_action      = history['action'][-1]\n",
    "    prev_opp_action  = history['opponent'][-1]\n",
    "    opponent_action  = observation.lastOpponentAction if observation.step > 0 else 2\n",
    "    rotn             = (opponent_action - prev_opp_action) % configuration.signs\n",
    "\n",
    "    history['opponent'].append(opponent_action)\n",
    "    history['rotn'].append(rotn)\n",
    "    \n",
    "    # Make weighted random guess based on the complete move history, weighted towards relative moves based on our last action \n",
    "    move_frequency   = Counter(history['rotn'])\n",
    "    action_frequency = Counter(zip(history['action'], history['rotn'])) \n",
    "    move_weights     = [   move_frequency.get(n, 1) \n",
    "                         + action_frequency.get((last_action,n), 1) \n",
    "                         for n in range(configuration.signs) ] \n",
    "    guess            = random.choices( population=actions, weights=move_weights, k=1 )[0]\n",
    "    \n",
    "    # Compare our guess to how our opponent actually played\n",
    "    guess_frequency  = Counter(zip(history['guess'], history['rotn']))\n",
    "    guess_weights    = [ guess_frequency.get((guess,n), 1) \n",
    "                         for n in range(configuration.signs) ]\n",
    "    prediction       = random.choices( population=actions, weights=guess_weights, k=1 )[0]\n",
    "\n",
    "    # Repeat, but based on how many times our prediction was correct\n",
    "    pred_frequency   = Counter(zip(history['prediction'], history['rotn']))\n",
    "    pred_weights     = [ pred_frequency.get((prediction,n), 1) \n",
    "                         for n in range(configuration.signs) ]\n",
    "    expected         = random.choices( population=actions, weights=pred_weights, k=1 )[0]\n",
    "\n",
    "    \n",
    "    # Slowly decay to 50% pure randomness as the match progresses\n",
    "    pure_random_chance = observation.step / (configuration.episodeSteps * 2)\n",
    "    if random.random() < pure_random_chance:\n",
    "        action = random.randint(0, configuration.signs-1)\n",
    "        is_pure_random_chance = True\n",
    "    else:\n",
    "        # Play the +1 counter move\n",
    "        # action = (expected + 1) % configuration.signs                  # without rotn\n",
    "        action = (opponent_action + expected + 1) % configuration.signs  # using   rotn\n",
    "        is_pure_random_chance = False\n",
    "    \n",
    "    # Persist state\n",
    "    history['guess'].append(guess)\n",
    "    history['prediction'].append(prediction)\n",
    "    history['expected'].append(expected)\n",
    "    history['action'].append(action)\n",
    "\n",
    "    return action"
   ],
   "metadata": {
    "collapsed": false,
    "ExecuteTime": {
     "end_time": "2024-11-15T18:56:57.131590Z",
     "start_time": "2024-11-15T18:56:57.118307Z"
    }
   },
   "id": "b2265d672ce66077"
  },
  {
   "cell_type": "code",
   "execution_count": 20,
   "outputs": [
    {
     "name": "stdout",
     "output_type": "stream",
     "text": [
      "The winners are \n",
      " rock_agent.py paper_agent.py scissors_agent.py !\n"
     ]
    }
   ],
   "source": [
    "# Турнир между агентами\n",
    "agents = ['rock_agent', 'paper_agent', 'scissors_agent',\n",
    "          'copy_opponent_agent', 'reactionary_agent', \n",
    "          'counter_reactionary_agent', 'statistical_agent',\n",
    "          'Jonson_agent', 'nash_equilibrium_agent',\n",
    "          'rock_paper_agent', 'paper_scissors_agent',\n",
    "          'rock_scissors_agent', 'transition_agent',\n",
    "          # 'decision_tree', 'submission'\n",
    "          ]\n",
    "\n",
    "# Добавляем .py к каждому агенту\n",
    "agents_py = [i + \".py\" for i in agents]\n",
    "n_agents = len(agents)\n",
    "\n",
    "# Инициализируем матрицу результатов\n",
    "scores = np.zeros((n_agents, n_agents))\n",
    "\n",
    "# Играем каждый агент против каждого\n",
    "for i in range(n_agents):\n",
    "    for j in range(i + 1, n_agents):\n",
    "        result = evaluate(\"rps\", [agents_py[i], agents_py[j]], configuration={\"episodeSteps\": 100}, num_episodes=1)\n",
    "        scores[i][j] = result[0][0]  # сохраняем результат для агента i\n",
    "        scores[j][i] = result[0][1]  # сохраняем результат для агента j\n",
    "\n",
    "# Определяем победителя\n",
    "vic = []\n",
    "for i in range(n_agents):\n",
    "    cnt_vic = sum(1 for j in range(n_agents) if scores[i][j] > 0)  # считаем победы агента\n",
    "    vic.append(cnt_vic)\n",
    "\n",
    "# Определяем индексы победителей\n",
    "i_victors = [i for i, v in enumerate(vic) if v == max(vic)]\n",
    "if len(i_victors) > 1:\n",
    "    print(\"The winners are\", '\\n', *[agents_py[i] for i in i_victors], \"!\")\n",
    "else:\n",
    "    print(\"The winner is\", agents_py[i_victors[0]], \"!\")"
   ],
   "metadata": {
    "collapsed": false,
    "ExecuteTime": {
     "end_time": "2024-11-15T18:58:09.115553Z",
     "start_time": "2024-11-15T18:58:06.912877Z"
    }
   },
   "id": "a052fc6bf18060e1"
  },
  {
   "cell_type": "code",
   "execution_count": null,
   "outputs": [],
   "source": [],
   "metadata": {
    "collapsed": false
   },
   "id": "b24fa4ea99d29851"
  }
 ],
 "metadata": {
  "kernelspec": {
   "display_name": "Python 3",
   "language": "python",
   "name": "python3"
  },
  "language_info": {
   "codemirror_mode": {
    "name": "ipython",
    "version": 2
   },
   "file_extension": ".py",
   "mimetype": "text/x-python",
   "name": "python",
   "nbconvert_exporter": "python",
   "pygments_lexer": "ipython2",
   "version": "2.7.6"
  }
 },
 "nbformat": 4,
 "nbformat_minor": 5
}
